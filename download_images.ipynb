{
 "cells": [
  {
   "cell_type": "markdown",
   "metadata": {},
   "source": [
    "# Image downloader with Google Images"
   ]
  },
  {
   "cell_type": "markdown",
   "metadata": {},
   "source": [
    "In the google image results, scroll as much as possible then Ctrl+Shift+J and c&p the following scripts (press enter after each one):\n",
    "\n",
    "// pull down jquery into the JavaScript console\n",
    " * var script = document.createElement('script');\n",
    " * script.src=\"https://ajax.googleapis.com/ajax/libs/jquery/2.2.0/jquery.min.js\";\n",
    " * document.getElementsByTagName('head')[0].appendChild(script);\n",
    " * var textToSave = urls.toArray().join('\\n');\n",
    " * var hiddenElement = document.createElement('a');\n",
    " * hiddenElement.href = 'data:attachment/text,' + encodeURI(textToSave);\n",
    " * hiddenElement.target = '_blank';\n",
    " * hiddenElement.download = 'urls.txt';\n",
    " * hiddenElement.click();\n",
    " \n",
    " Finally, place the file urls.txt in the base_dir and run:"
   ]
  },
  {
   "cell_type": "code",
   "execution_count": 5,
   "metadata": {},
   "outputs": [
    {
     "name": "stdout",
     "output_type": "stream",
     "text": [
      "failed  https://cdn-images-1.medium.com/max/1600/1*utOmkc67LDksWHdUZhrMrw.jpeg\n",
      "\n",
      "failed  https://cdn1-www-wholesomebabyfood.momtastic.com/assets/uploads/2015/04/tomato.jpg\n",
      "\n",
      "failed  https://img.webmd.com/dtmcms/live/webmd/consumer_assets/site_images/articles/health_tools/tomato_health_benefits_slideshow/493ss_thinkstock_rf_tomatoes_ripening_on_the_vine.jpg\n",
      "\n",
      "failed  https://www.sciencealert.com/images/2018-05/processed/GettyImages-653271350_600.jpg\n",
      "\n",
      "failed  https://rasamalaysia.com/wp-content/uploads/2018/09/cherry-tomatoes-frittata.jpg\n",
      "\n",
      "failed  https://cdn.gurneys.com/images/475/86930.jpg\n",
      "\n",
      "failed  https://www.organicfacts.net/wp-content/uploads/tomatoes.jpg\n",
      "\n",
      "failed  https://www.highmowingseeds.com/pub/media/catalog/product/cache/image/675x675/e9c3970ab036de70892d86c6d221abfe/2/9/2972.jpg\n",
      "\n",
      "failed  https://www.seriouseats.com/recipes/images/2016/09/20160812-bruschetta-vicky-wasik-2-1500x1125.jpg\n",
      "\n",
      "failed  https://www.simplyrecipes.com/wp-content/uploads/2008/07/grilled-tomatoes-horiz-a-1600.jpg\n",
      "\n",
      "failed  https://www.recipesfromitaly.com/wp-content/uploads/2016/03/tomato-passata.jpg\n",
      "\n",
      "failed  http://www.cowellsgc.co.uk/files/files/Big%20Boy%20F1.jpg\n",
      "\n",
      "failed  https://1rxbfb2hflyo2jt6jd3f6sjr-wpengine.netdna-ssl.com/wp-content/uploads/2014/11/TM781-12.jpg\n",
      "\n",
      "failed  http://blog.timesunion.com/payitforward/files/2011/01/tomato_plants-631.jpg\n",
      "\n",
      "failed  https://hub.suttons.co.uk/wp-content/uploads/2017/03/food-wood-tomatoes-800x536.jpg\n",
      "\n",
      "failed  https://www.highmowingseeds.com/pub/media/catalog/product/cache/image/675x675/e9c3970ab036de70892d86c6d221abfe/3/1/3171.jpg\n",
      "\n",
      "failed  https://www.bigbasket.com/media/uploads/p/m/10000203_16-fresho-tomato-local.jpg\n",
      "\n",
      "failed  https://www.bigbasket.com/media/uploads/p/l/10000200-4_2-fresho-tomato-hybrid.jpg\n",
      "\n",
      "failed  https://1rxbfb2hflyo2jt6jd3f6sjr-wpengine.netdna-ssl.com/wp-content/uploads/2014/08/TM757_Sugary-Tomato-Seeds-1.jpg\n",
      "\n",
      "failed  https://www.leafrootfruit.com.au/wp-content/uploads/2018/08/Tomato-Rainbow-1024x545.jpg\n",
      "\n",
      "failed  https://ottolenghi.co.uk/media/catalog/product/cache/1/image/9df78eab33525d08d6e5fb8d27136e95/t/o/tomato_-rhubarb-and-elderflower-salad-1300.jpg\n",
      "\n",
      "failed  https://pinchofyum.com/wp-content/uploads/Tomatoes-for-Garlic-Chicken.jpg\n",
      "\n",
      "failed  https://www.lidl.co.uk/catalog3media/uk/article/84570/gallery/zoom/84570_01.jpg\n",
      "\n",
      "failed  https://www.thetomatostall.co.uk/img/tomatoes/ACt3hNAfYWXUa1GLTYSh9z0t0CQa5skoE9swwyuI.png\n",
      "\n",
      "failed  https://www.bellavitashop.co.uk/1341-large_default/vine-tomatoes-500gr-350kg.jpg\n",
      "\n",
      "failed  https://greenmylife-wpengine.netdna-ssl.com/wp-content/uploads/2014/09/GMLOMSD047_New.jpg\n",
      "\n",
      "failed  https://thumbs-prod.si-cdn.com/6w-ayTNsYYXdnmN8jlJkG0pzEUA=/800x600/filters:no_upscale()/https://public-media.smithsonianmag.com/filer/44/de/44de0f61-47cb-4289-aaf0-73e71d39fefb/2962762666_1237ff6eb4_o.jpg\n",
      "\n",
      "failed  https://images.pexels.com/photos/5617/red-tomato-vegetable.jpg?h=1000&w=1500&fit=crop&mark=https%3A%2F%2Fassets.imgix.net%2F~text%3Ftxtclr%3Dfff%26txt%3DFree+Tomato+Photos%26txtsize%3D120%26txtpad%3D20%26bg%3D80000000%26txtfont%3DAvenir-Heavy%26txtalign%3Dcenter%26w%3D1300&markalign=center%2Cmiddle&txt=pexels.com&txtalign=center&txtsize=60&txtclr=eeffffff&txtfont=Avenir-Heavy&txtshad=10\n",
      "\n",
      "failed  http://www.naturefresh.ca/wp-content/uploads/NFF_Tomatoes_Mix-2-W.jpg\n",
      "\n",
      "failed  http://pngimg.com/uploads/tomato/tomato_PNG12599.png\n",
      "\n",
      "failed  https://pinchofyum.com/wp-content/uploads/Tomato-Sauce-Recipe.jpg\n",
      "\n",
      "failed  https://media.mercola.com/assets/images/foodfacts/tomato2-fb.jpg\n",
      "\n",
      "failed  https://www.viralalertz.com/wp-content/uploads/2018/03/Generic_Tomatoes1.jpg\n",
      "\n",
      "failed  https://www.farmersalmanac.com/wp-content/uploads/2017/08/puffiness.png\n",
      "\n"
     ]
    }
   ],
   "source": [
    "import os\n",
    "from urllib.request import urlopen\n",
    "import random\n",
    "import urllib.request\n",
    "\n",
    "\n",
    "def download_image(path,name, url):\n",
    "    os.chdir(path)\n",
    "    img_number=random.randrange(0,10000)\n",
    "    full_name=str(name)+'-'+str(img_number)+'.jpg'\n",
    "    urllib.request.urlretrieve(url,full_name)\n",
    "\n",
    "folder=\"tomatoes\"\n",
    "urls_file=\"tomatoes.txt\"\n",
    "\n",
    "base_dir='C:/Users/nbbor/Desktop/ML/Web Scrapping'\n",
    "#os.mkdir(base_dir+'/'+folder)\n",
    "images_dir=os.path.join(base_dir,folder)\n",
    "\n",
    "os.chdir(base_dir)\n",
    "urls=open(urls_file)\n",
    "i=0\n",
    "for url in urls:\n",
    "    try:\n",
    "        download_image(images_dir,folder, url)\n",
    "    except:\n",
    "        i+=1\n",
    "        print(\"failed \",url)\n",
    "urls.close()\n"
   ]
  },
  {
   "cell_type": "code",
   "execution_count": 4,
   "metadata": {},
   "outputs": [
    {
     "ename": "NameError",
     "evalue": "name 'i' is not defined",
     "output_type": "error",
     "traceback": [
      "\u001b[1;31m---------------------------------------------------------------------------\u001b[0m",
      "\u001b[1;31mNameError\u001b[0m                                 Traceback (most recent call last)",
      "\u001b[1;32m<ipython-input-4-de393a78d09c>\u001b[0m in \u001b[0;36m<module>\u001b[1;34m()\u001b[0m\n\u001b[0;32m      5\u001b[0m \u001b[0murls\u001b[0m\u001b[1;33m.\u001b[0m\u001b[0mclose\u001b[0m\u001b[1;33m(\u001b[0m\u001b[1;33m)\u001b[0m\u001b[1;33m\u001b[0m\u001b[0m\n\u001b[0;32m      6\u001b[0m \u001b[1;33m\u001b[0m\u001b[0m\n\u001b[1;32m----> 7\u001b[1;33m \u001b[0mprint\u001b[0m\u001b[1;33m(\u001b[0m\u001b[1;34m\"Downloaded \"\u001b[0m\u001b[1;33m,\u001b[0m\u001b[0mtot_urls\u001b[0m\u001b[1;33m-\u001b[0m\u001b[0mi\u001b[0m\u001b[1;33m,\u001b[0m\u001b[1;34m\"images from a total of\"\u001b[0m\u001b[1;33m,\u001b[0m\u001b[0mtot_urls\u001b[0m\u001b[1;33m)\u001b[0m\u001b[1;33m\u001b[0m\u001b[0m\n\u001b[0m",
      "\u001b[1;31mNameError\u001b[0m: name 'i' is not defined"
     ]
    }
   ],
   "source": [
    "#get total number of urls\n",
    "os.chdir(base_dir)\n",
    "urls=open(urls_file)\n",
    "tot_urls = sum(1 for url in urls)\n",
    "urls.close()\n",
    "\n",
    "print(\"Downloaded \",tot_urls-i,\"images from a total of\",tot_urls)"
   ]
  }
 ],
 "metadata": {
  "kernelspec": {
   "display_name": "Python 3",
   "language": "python",
   "name": "python3"
  },
  "language_info": {
   "codemirror_mode": {
    "name": "ipython",
    "version": 3
   },
   "file_extension": ".py",
   "mimetype": "text/x-python",
   "name": "python",
   "nbconvert_exporter": "python",
   "pygments_lexer": "ipython3",
   "version": "3.5.6"
  }
 },
 "nbformat": 4,
 "nbformat_minor": 2
}
